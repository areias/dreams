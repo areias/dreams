{
 "cells": [
  {
   "cell_type": "markdown",
   "metadata": {
    "slideshow": {
     "slide_type": "slide"
    }
   },
   "source": [
    "![](../images/header.png)\n",
    "\n",
    "# DreamCatcher: Deep Learning and Graph Analytics for the Dreamscape <a class=\"anchor\" id=\"top\"></a>\n",
    "\n",
    "April 2021 - Ana Areias - Kineviz Data Scientist"
   ]
  },
  {
   "cell_type": "markdown",
   "metadata": {
    "id": "BBlYvBcJ8Rb5",
    "slideshow": {
     "slide_type": "slide"
    }
   },
   "source": [
    "Dive into 30,000 dreams from [UCSC’s DreamBank](http://dreambank.net/) with Kineviz Data Scientist, Ana Areias. This post will walk you through using deep learning for NLP and text-to-image generation, GraphXR and Neo4j to build a dream similarity graph, identify and interpret dream clusters and visualize and explore the subconscious terrain.\n",
    "\n",
    "Follow along below with step-by-step instructions on how to process the data, upload to a local Neo4j instance running on a Docker container and connect your GraphXR account.\n",
    "\n",
    "While the choice of dreams data is a bit tongue-in-cheek, the methodology we use here can be applied in many other domains in order to make sense of large amounts of data, find hidden connections and create compelling visualizations.\n",
    " \n",
    "This notebook is a companion to the [main blogpost with our dream visualizations](https://www.kineviz.com/post/2021/5/3/dreamcatcher-deep-learning-and-graph-analytics-for-the-dreamscape) and is divivided into two main parts:\n",
    "\n",
    "* [1. Data processsing and preparation with deep learning and Neo4j](#part1)    \n",
    "    * [1.1. Loading 30,000 dream reports](#loading)  \n",
    "    * [1.2. Dream embeddings with doc2vec and building a Dream Similarity Graph](#doc2vec) \n",
    "    * [1.3. Extracting entities with spaCy](#spacy)  \n",
    "    * [1.4. Load dreams into Neo4j database running on Docker](#neo4j)  \n",
    "    * [1.5. Text to Image generation with Aleph2Image and Google colab](#colab)\n",
    "    \n",
    "    \n",
    "* [2. Visualization, exploration and narrative with GraphXR](#part2)  \n",
    "    * [2.1. Shared dreams across dreamers](#shared)  \n",
    "    * [2.2. Dream interpretation](#interpret)   \n",
    "    * [2.3. Dreams clusters](#clusters)  \n",
    "    * [2.4. Adding dream snapshots](#snapshots)\n",
    "    \n",
    "    \n",
    "    \n",
    "   "
   ]
  },
  {
   "cell_type": "markdown",
   "metadata": {
    "id": "Qw40SiBI8c74"
   },
   "source": [
    "## 1. Data processing and preparation with Deep Learning and Neo4j \n",
    "\n",
    "### 1.1. Loading 30,000 dream reports  <a class=\"anchor\" id=\"loading\"></a>\n",
    "\n",
    "[Back to top](#top)\n",
    "\n",
    "We pull almost 30,000 dream reports from [UCSC’s DreamBank](http://dreambank.net/) into Neo4j. \n",
    "\n",
    "Luckily, Matt Bierner scraped all dreams and made them available as json files in his github, which you can download directly."
   ]
  },
  {
   "cell_type": "code",
   "execution_count": null,
   "metadata": {
    "id": "-T8DvKld8cxG"
   },
   "outputs": [],
   "source": [
    "!git clone -q https://github.com/mattbierner/DreamScrape.git ../"
   ]
  },
  {
   "cell_type": "markdown",
   "metadata": {},
   "source": [
    "We're going to transform these separate json files into one pandas dataframe."
   ]
  },
  {
   "cell_type": "code",
   "execution_count": 59,
   "metadata": {
    "colab": {
     "base_uri": "https://localhost:8080/"
    },
    "id": "lwYEkG6z8OP2",
    "outputId": "1069b841-a7a2-4822-ae87-ccdb0e90ac1d"
   },
   "outputs": [
    {
     "data": {
      "text/plain": [
       "['phil1.json',\n",
       " 'phil2.json',\n",
       " 'jasmine4.json',\n",
       " 'seventh_graders.json',\n",
       " 'jeff.json',\n",
       " 'vonuslar.de.json',\n",
       " 'pegasus.json',\n",
       " 'jasmine3.json',\n",
       " 'miami-home.json',\n",
       " 'jasmine2.json',\n",
       " 'madeline4-postgrad.json',\n",
       " 'bosnak.json',\n",
       " 'physiologist.json',\n",
       " 'david.json',\n",
       " 'ed.json',\n",
       " 'peru-f.json',\n",
       " 'wedding.json',\n",
       " 'ringo.json',\n",
       " 'vietnam_vet2.json',\n",
       " 'zurich-f.de.json',\n",
       " 'b2.json',\n",
       " 'ucsc_women.json',\n",
       " 'toby.json',\n",
       " 'esther.json',\n",
       " 'edna.json',\n",
       " 'midwest_teens-m.json',\n",
       " 'zurich-m.de.json',\n",
       " 'bay_area_girls_789.json',\n",
       " 'chris.json',\n",
       " 'norms-m.json',\n",
       " 'miami-lab.json',\n",
       " 'mack.json',\n",
       " 'german-f.de.json',\n",
       " 'norms-f.json',\n",
       " 'nancy.json',\n",
       " 'melora.json',\n",
       " 'madeline1-hs.json',\n",
       " 'peru-m.json',\n",
       " 'emma.json',\n",
       " 'phil3.json',\n",
       " 'norman.json',\n",
       " 'bea2.json',\n",
       " 'bea1.json',\n",
       " 'madeline3-offcampus.json',\n",
       " 'mark.json',\n",
       " 'melissa.json',\n",
       " 'tom.json',\n",
       " 'kenneth.json',\n",
       " 'german-m.de.json',\n",
       " 'midwest_teens-f.json',\n",
       " 'west_coast_teens.json',\n",
       " 'jasmine1.json',\n",
       " 'blind-f.json',\n",
       " 'joan.json',\n",
       " 'elizabeth.json',\n",
       " 'madeline2-dorms.json',\n",
       " 'melvin.json',\n",
       " 'b-baseline.json',\n",
       " 'chuck.json',\n",
       " 'natural_scientist.json',\n",
       " 'b.json',\n",
       " 'dorothea.json',\n",
       " 'vietnam_vet.json',\n",
       " 'samantha.json',\n",
       " 'dahlia.json',\n",
       " 'alta.json',\n",
       " 'vickie.json',\n",
       " 'lawrence.json',\n",
       " 'merri.json',\n",
       " 'bay_area_girls_456.json',\n",
       " 'emmas_husband.json',\n",
       " 'blind-m.json',\n",
       " 'hall_female.json',\n",
       " 'arlie.json',\n",
       " 'angie.json']"
      ]
     },
     "execution_count": 59,
     "metadata": {},
     "output_type": "execute_result"
    }
   ],
   "source": [
    "import os \n",
    "import json\n",
    "import pandas as pd\n",
    "import numpy as np \n",
    "\n",
    "dreamers=os.listdir(\"../DreamScrape/dreams\")\n",
    "dreamers"
   ]
  },
  {
   "cell_type": "code",
   "execution_count": 60,
   "metadata": {
    "id": "npAZuOn79jWN"
   },
   "outputs": [],
   "source": [
    "df=pd.DataFrame()\n",
    "for dr in dreamers:\n",
    "    with open('../DreamScrape/dreams/'+dr) as json_file:\n",
    "        jsn=json.load(json_file)\n",
    "        d=pd.DataFrame(jsn['dreams'])\n",
    "        d['dreamer']=jsn['dreamer']\n",
    "        d['description']=jsn['description']\n",
    "        df=df.append(d)\n",
    "\n",
    "df.index=range(len(df)) "
   ]
  },
  {
   "cell_type": "code",
   "execution_count": 62,
   "metadata": {
    "colab": {
     "base_uri": "https://localhost:8080/",
     "height": 206
    },
    "id": "3kKuP2eN9ne6",
    "outputId": "153878ac-e579-4bbc-9763-ca45a5d6b307"
   },
   "outputs": [
    {
     "data": {
      "text/html": [
       "<div>\n",
       "<style scoped>\n",
       "    .dataframe tbody tr th:only-of-type {\n",
       "        vertical-align: middle;\n",
       "    }\n",
       "\n",
       "    .dataframe tbody tr th {\n",
       "        vertical-align: top;\n",
       "    }\n",
       "\n",
       "    .dataframe thead th {\n",
       "        text-align: right;\n",
       "    }\n",
       "</style>\n",
       "<table border=\"1\" class=\"dataframe\">\n",
       "  <thead>\n",
       "    <tr style=\"text-align: right;\">\n",
       "      <th></th>\n",
       "      <th>number</th>\n",
       "      <th>head</th>\n",
       "      <th>content</th>\n",
       "      <th>dreamer</th>\n",
       "      <th>description</th>\n",
       "    </tr>\n",
       "  </thead>\n",
       "  <tbody>\n",
       "    <tr>\n",
       "      <th>0</th>\n",
       "      <td>1-001</td>\n",
       "      <td>1957-08-05</td>\n",
       "      <td>Uncle Albert is getting ready to leave for a v...</td>\n",
       "      <td>phil1</td>\n",
       "      <td>Phil 1: teens</td>\n",
       "    </tr>\n",
       "    <tr>\n",
       "      <th>1</th>\n",
       "      <td>1-002</td>\n",
       "      <td>1957-08-06</td>\n",
       "      <td>I go to a ball game with Uncle Ben and Aunt Ai...</td>\n",
       "      <td>phil1</td>\n",
       "      <td>Phil 1: teens</td>\n",
       "    </tr>\n",
       "    <tr>\n",
       "      <th>2</th>\n",
       "      <td>1-003</td>\n",
       "      <td>1957-08-07</td>\n",
       "      <td>Rover (our dog) has to be shot.  I am appointe...</td>\n",
       "      <td>phil1</td>\n",
       "      <td>Phil 1: teens</td>\n",
       "    </tr>\n",
       "    <tr>\n",
       "      <th>3</th>\n",
       "      <td>1-004</td>\n",
       "      <td>1957-08-08</td>\n",
       "      <td>We are in Grandpa's car.  Grandpa is driving. ...</td>\n",
       "      <td>phil1</td>\n",
       "      <td>Phil 1: teens</td>\n",
       "    </tr>\n",
       "    <tr>\n",
       "      <th>4</th>\n",
       "      <td>1-005</td>\n",
       "      <td>1957-08-08</td>\n",
       "      <td>Something about Sue Henderson standing by some...</td>\n",
       "      <td>phil1</td>\n",
       "      <td>Phil 1: teens</td>\n",
       "    </tr>\n",
       "  </tbody>\n",
       "</table>\n",
       "</div>"
      ],
      "text/plain": [
       "  number        head                                            content  \\\n",
       "0  1-001  1957-08-05  Uncle Albert is getting ready to leave for a v...   \n",
       "1  1-002  1957-08-06  I go to a ball game with Uncle Ben and Aunt Ai...   \n",
       "2  1-003  1957-08-07  Rover (our dog) has to be shot.  I am appointe...   \n",
       "3  1-004  1957-08-08  We are in Grandpa's car.  Grandpa is driving. ...   \n",
       "4  1-005  1957-08-08  Something about Sue Henderson standing by some...   \n",
       "\n",
       "  dreamer    description  \n",
       "0   phil1  Phil 1: teens  \n",
       "1   phil1  Phil 1: teens  \n",
       "2   phil1  Phil 1: teens  \n",
       "3   phil1  Phil 1: teens  \n",
       "4   phil1  Phil 1: teens  "
      ]
     },
     "execution_count": 62,
     "metadata": {},
     "output_type": "execute_result"
    }
   ],
   "source": [
    "df.head()"
   ]
  },
  {
   "cell_type": "markdown",
   "metadata": {},
   "source": [
    "Some dream journal entries are in German, and we can drop these."
   ]
  },
  {
   "cell_type": "code",
   "execution_count": 63,
   "metadata": {
    "id": "v_lrIY139oh4"
   },
   "outputs": [],
   "source": [
    "drop=['vonuslar.de','zurich-f.de','zurich-m.de', 'german-f.de', 'german-m.de']\n",
    "df=df.loc[~df['dreamer'].isin(drop)]"
   ]
  },
  {
   "cell_type": "code",
   "execution_count": 64,
   "metadata": {
    "colab": {
     "base_uri": "https://localhost:8080/"
    },
    "id": "TcH75crt-VtL",
    "outputId": "62c8f2c4-6c18-4f0b-ab54-59f81926356f"
   },
   "outputs": [
    {
     "data": {
      "text/plain": [
       "22415"
      ]
     },
     "execution_count": 64,
     "metadata": {},
     "output_type": "execute_result"
    }
   ],
   "source": [
    "len(df)"
   ]
  },
  {
   "cell_type": "code",
   "execution_count": 65,
   "metadata": {},
   "outputs": [
    {
     "data": {
      "text/plain": [
       "9907"
      ]
     },
     "execution_count": 65,
     "metadata": {},
     "output_type": "execute_result"
    }
   ],
   "source": [
    "df.number.nunique()"
   ]
  },
  {
   "cell_type": "markdown",
   "metadata": {},
   "source": [
    "We add an unique ID to each dream for use later in Neo4j."
   ]
  },
  {
   "cell_type": "code",
   "execution_count": 66,
   "metadata": {},
   "outputs": [],
   "source": [
    "df['idx']=np.nan\n",
    "for i, name in enumerate(list(df['dreamer'].unique())):\n",
    "    df.loc[df['dreamer']==name, ['idx']] =  df.loc[df['dreamer']==name]['number'].apply(lambda x: str(i)+\"-\"+x)"
   ]
  },
  {
   "cell_type": "markdown",
   "metadata": {},
   "source": [
    "We have 22,415 dreams from 69 unique dreamers to work with."
   ]
  },
  {
   "cell_type": "code",
   "execution_count": 67,
   "metadata": {},
   "outputs": [
    {
     "data": {
      "text/plain": [
       "22415"
      ]
     },
     "execution_count": 67,
     "metadata": {},
     "output_type": "execute_result"
    }
   ],
   "source": [
    "df.idx.nunique()"
   ]
  },
  {
   "cell_type": "code",
   "execution_count": 68,
   "metadata": {
    "colab": {
     "base_uri": "https://localhost:8080/"
    },
    "id": "lOciAVlf9w1z",
    "outputId": "e420b1d2-5bfe-4318-b8be-ecd0b71bf792"
   },
   "outputs": [
    {
     "data": {
      "text/plain": [
       "69"
      ]
     },
     "execution_count": 68,
     "metadata": {},
     "output_type": "execute_result"
    }
   ],
   "source": [
    "df.dreamer.nunique()"
   ]
  },
  {
   "cell_type": "markdown",
   "metadata": {
    "id": "F1_8MswZ955k"
   },
   "source": [
    "## 2. Dream embeddings and building a Dream Similarity Graph <a class=\"anchor\" id=\"doc2vec\"></a>\n",
    "\n",
    "[Back to top](#top)\n",
    "\n",
    "\n",
    "To start with, we capture the vector representation of each dream using a Gensim Doc2Vec model trained on the dream content. We gauge how similar two dreams are by their cosine similarity.\n",
    "\n",
    "We preprocess the data by removing stop words and tokenizing.\n"
   ]
  },
  {
   "cell_type": "code",
   "execution_count": 8,
   "metadata": {
    "id": "ka2kdKGZ9zxP"
   },
   "outputs": [],
   "source": [
    "import gensim\n",
    "from gensim.parsing.preprocessing import remove_stopwords"
   ]
  },
  {
   "cell_type": "code",
   "execution_count": 9,
   "metadata": {
    "id": "HWGsmEaI-gji"
   },
   "outputs": [],
   "source": [
    "def preprocess(df):\n",
    "    for row in df.iterrows():\n",
    "        filtered=remove_stopwords(row[1]['content'])\n",
    "        tokens = gensim.utils.simple_preprocess(filtered)\n",
    "        yield gensim.models.doc2vec.TaggedDocument(tokens, [row[0]])"
   ]
  },
  {
   "cell_type": "markdown",
   "metadata": {
    "id": "3kj5FuAb-xf1"
   },
   "source": [
    "This is what the first dream looks like once pre-processed."
   ]
  },
  {
   "cell_type": "code",
   "execution_count": 10,
   "metadata": {
    "colab": {
     "base_uri": "https://localhost:8080/"
    },
    "id": "YsmH2Dfb-xKE",
    "outputId": "f511ec3e-6dbf-4cba-ac62-89ab5ac13257"
   },
   "outputs": [
    {
     "data": {
      "text/plain": [
       "[TaggedDocument(words=['uncle', 'albert', 'getting', 'ready', 'leave', 'vacation', 'taking', 'along', 'don', 'want', 'go', 'tell', 'uncle', 'albert', 'coming', 'makes', 'difference', 'someone', 'finally', 'come', 'me', 'though', 'uncle', 'joe', 'on', 'way', 'home', 'or', 'going', 'stop', 'old', 'school', 'storey', 'summer', 'school', 'going', 'on', 'tell', 'pat', 'byers', 'goodbye', 'there', 'rooms', 'floor', 'door', 'look', 'one', 'everyone', 'apparently', 'having', 'lot', 'fun', 'when', 'spotted', 'trouble', 'class', 'explain', 'don', 'school', 'come', 'tell', 'goodbye', 'beginning', 'think', 'won', 'head', 'th', 'room', 'upstairs', 'tell', 'goodbye', 'don', 'remember', 'how', 'by', 'time', 'outside', 'dusk', 'dark', 'wait', 'dark', 'uncle', 'joe', 'look', 'building', 'etc', 'can', 'him', 'growing', 'worried'], tags=[0])]"
      ]
     },
     "execution_count": 10,
     "metadata": {},
     "output_type": "execute_result"
    }
   ],
   "source": [
    "list(preprocess(df.loc[:0,]))"
   ]
  },
  {
   "cell_type": "markdown",
   "metadata": {
    "id": "NWZ1BGSn_DBG"
   },
   "source": [
    "Preprocessing the entire dataframe:"
   ]
  },
  {
   "cell_type": "code",
   "execution_count": 11,
   "metadata": {
    "id": "ij3Dylc2-rdh"
   },
   "outputs": [],
   "source": [
    "train_corpus=list(preprocess(df))"
   ]
  },
  {
   "cell_type": "markdown",
   "metadata": {
    "id": "8kJgpvFC_ciK"
   },
   "source": [
    "The preprocessed data is then fed into a doc2vec model with the default parameters."
   ]
  },
  {
   "cell_type": "code",
   "execution_count": 12,
   "metadata": {
    "colab": {
     "background_save": true
    },
    "id": "dyqmm9aI_IFL"
   },
   "outputs": [],
   "source": [
    "model = gensim.models.doc2vec.Doc2Vec(vector_size=55, min_count=10, epochs=40)\n",
    "model.build_vocab(train_corpus)\n",
    "model.train(train_corpus, total_examples=model.corpus_count, epochs=model.epochs)"
   ]
  },
  {
   "cell_type": "code",
   "execution_count": 13,
   "metadata": {},
   "outputs": [],
   "source": [
    "model.save(\"dreams-doc2vec-model\")"
   ]
  },
  {
   "cell_type": "markdown",
   "metadata": {},
   "source": [
    "We build a function to get index position and the similarity score for the n most similar dreams."
   ]
  },
  {
   "cell_type": "code",
   "execution_count": 14,
   "metadata": {
    "colab": {
     "background_save": true
    },
    "id": "JVJoi1dG_j2H"
   },
   "outputs": [],
   "source": [
    "def get_most_similar(text,n=3):\n",
    "    filtered=remove_stopwords(text)\n",
    "    tokens = gensim.utils.simple_preprocess(filtered)\n",
    "    vector = model.infer_vector(tokens)\n",
    "    sims = model.docvecs.most_similar([vector]) \n",
    "    return [i for i in sims[:n]]"
   ]
  },
  {
   "cell_type": "markdown",
   "metadata": {},
   "source": [
    "You can see that in this case, the most similar dream to dream at index position 0 is itself with score 0.96, so from now on we discard the most similar dream."
   ]
  },
  {
   "cell_type": "code",
   "execution_count": 17,
   "metadata": {
    "id": "p2-_mr_OKVEj"
   },
   "outputs": [
    {
     "data": {
      "text/plain": [
       "[(0, 0.9645031690597534),\n",
       " (24678, 0.53974449634552),\n",
       " (28, 0.5249481797218323),\n",
       " (20560, 0.5181839466094971),\n",
       " (17754, 0.5164690017700195),\n",
       " (2204, 0.513573169708252),\n",
       " (26535, 0.503899335861206),\n",
       " (14, 0.5036380887031555),\n",
       " (1200, 0.4850434362888336),\n",
       " (23335, 0.4808422029018402)]"
      ]
     },
     "execution_count": 17,
     "metadata": {},
     "output_type": "execute_result"
    }
   ],
   "source": [
    "get_most_similar(df['content'][0],10)\n"
   ]
  },
  {
   "cell_type": "markdown",
   "metadata": {},
   "source": [
    "For each dream, let's add the indices and scores for the 9 most similar dreams to it."
   ]
  },
  {
   "cell_type": "code",
   "execution_count": 18,
   "metadata": {},
   "outputs": [],
   "source": [
    "df['neighbors']=df['content'].apply(lambda x: get_most_similar(x,n=10)[1:])"
   ]
  },
  {
   "cell_type": "markdown",
   "metadata": {},
   "source": [
    "Let's take a look at the distribution of similarity scores so that we can decide which threshold to use to connect our dreams in our dream similarity graph."
   ]
  },
  {
   "cell_type": "code",
   "execution_count": 19,
   "metadata": {},
   "outputs": [],
   "source": [
    "import matplotlib\n",
    "import matplotlib.pyplot as plt\n",
    "%matplotlib inline"
   ]
  },
  {
   "cell_type": "markdown",
   "metadata": {},
   "source": [
    "For the second most similar dreams, most scores are above 0.6."
   ]
  },
  {
   "cell_type": "code",
   "execution_count": 21,
   "metadata": {},
   "outputs": [
    {
     "data": {
      "image/png": "[encoded data removed]",
      "text/plain": [
       "<Figure size 432x288 with 1 Axes>"
      ]
     },
     "metadata": {
      "needs_background": "light"
     },
     "output_type": "display_data"
    }
   ],
   "source": [
    "matplotlib.pyplot.hist([x[0][1] for x in df['neighbors']], bins=100)\n",
    "plt.show()"
   ]
  },
  {
   "cell_type": "markdown",
   "metadata": {},
   "source": [
    "In the case of the 9th most similar dream, most scores are below 0.6. So let's use 0.6 as the threshold above which we will connect two dreams in our dream similarity graph."
   ]
  },
  {
   "cell_type": "code",
   "execution_count": 22,
   "metadata": {},
   "outputs": [
    {
     "data": {
      "image/png": "[encoded data removed]",
      "text/plain": [
       "<Figure size 432x288 with 1 Axes>"
      ]
     },
     "metadata": {
      "needs_background": "light"
     },
     "output_type": "display_data"
    }
   ],
   "source": [
    "matplotlib.pyplot.hist([x[8][1] for x in df['neighbors']], bins=100)\n",
    "plt.show()"
   ]
  },
  {
   "cell_type": "code",
   "execution_count": 24,
   "metadata": {},
   "outputs": [],
   "source": [
    "df.to_csv(\"../data/dreams-neighbors.csv\", index=False)"
   ]
  },
  {
   "cell_type": "markdown",
   "metadata": {},
   "source": [
    "## 3. Extracting entities with spaCy <a class=\"anchor\" id=\"spacy\"></a>\n",
    "\n",
    "[Back to top](#top)\n",
    "\n",
    "\n",
    "[spaCy](https://spacy.io/api/entityrecognizer) allows us to load a pre-trained model in order to identify \n",
    "\n",
    "> a variety of named and numeric entities, including companies, locations, organizations and products.\n",
    "\n",
    "\n",
    "For each dream journal entry below we see what entities spaCy picks out.\n"
   ]
  },
  {
   "cell_type": "code",
   "execution_count": 36,
   "metadata": {},
   "outputs": [],
   "source": [
    "import spacy \n",
    "nlp = spacy.load(\"en_core_web_sm\")\n"
   ]
  },
  {
   "cell_type": "code",
   "execution_count": null,
   "metadata": {},
   "outputs": [],
   "source": [
    "mylist=[]\n",
    "for idx, row in df.iterrows():\n",
    "    doc=nlp(row['content'])\n",
    "    if doc.ents:\n",
    "        for ent in doc.ents:\n",
    "            mylist.append((ent.text,ent.label_,row['idx']))"
   ]
  },
  {
   "cell_type": "code",
   "execution_count": null,
   "metadata": {},
   "outputs": [],
   "source": [
    "ent_df=pd.DataFrame(mylist)\n",
    "ent_df.columns=['text', 'entity_type','idx']\n"
   ]
  },
  {
   "cell_type": "code",
   "execution_count": null,
   "metadata": {},
   "outputs": [],
   "source": [
    "g=ent_df.groupby(['text','entity_type','idx'])['idx'].count()\n",
    "g=g.reset_index(level='entity_type')\n",
    "g.columns=['entity_type','count']\n",
    "g=g.reset_index()"
   ]
  },
  {
   "cell_type": "code",
   "execution_count": 9,
   "metadata": {},
   "outputs": [],
   "source": [
    "g=pd.read_csv(\"../data/dream-entities.csv\")"
   ]
  },
  {
   "cell_type": "code",
   "execution_count": 10,
   "metadata": {},
   "outputs": [
    {
     "data": {
      "text/plain": [
       "79231"
      ]
     },
     "execution_count": 10,
     "metadata": {},
     "output_type": "execute_result"
    }
   ],
   "source": [
    "len(g)"
   ]
  },
  {
   "cell_type": "code",
   "execution_count": 11,
   "metadata": {},
   "outputs": [
    {
     "data": {
      "text/html": [
       "<div>\n",
       "<style scoped>\n",
       "    .dataframe tbody tr th:only-of-type {\n",
       "        vertical-align: middle;\n",
       "    }\n",
       "\n",
       "    .dataframe tbody tr th {\n",
       "        vertical-align: top;\n",
       "    }\n",
       "\n",
       "    .dataframe thead th {\n",
       "        text-align: right;\n",
       "    }\n",
       "</style>\n",
       "<table border=\"1\" class=\"dataframe\">\n",
       "  <thead>\n",
       "    <tr style=\"text-align: right;\">\n",
       "      <th></th>\n",
       "      <th>text</th>\n",
       "      <th>idx</th>\n",
       "      <th>entity_type</th>\n",
       "      <th>count</th>\n",
       "    </tr>\n",
       "  </thead>\n",
       "  <tbody>\n",
       "    <tr>\n",
       "      <th>0</th>\n",
       "      <td>\" - Tree</td>\n",
       "      <td>59-362</td>\n",
       "      <td>WORK_OF_ART</td>\n",
       "      <td>1</td>\n",
       "    </tr>\n",
       "    <tr>\n",
       "      <th>1</th>\n",
       "      <td>\" George of Seinfeld</td>\n",
       "      <td>17-3274</td>\n",
       "      <td>WORK_OF_ART</td>\n",
       "      <td>1</td>\n",
       "    </tr>\n",
       "    <tr>\n",
       "      <th>2</th>\n",
       "      <td>\"Ba Ba</td>\n",
       "      <td>42-497</td>\n",
       "      <td>PERSON</td>\n",
       "      <td>1</td>\n",
       "    </tr>\n",
       "    <tr>\n",
       "      <th>3</th>\n",
       "      <td>\"Burning The House Down</td>\n",
       "      <td>42-1669</td>\n",
       "      <td>WORK_OF_ART</td>\n",
       "      <td>1</td>\n",
       "    </tr>\n",
       "    <tr>\n",
       "      <th>4</th>\n",
       "      <td>\"Can You Feel the Love Tonight</td>\n",
       "      <td>8-B-128</td>\n",
       "      <td>WORK_OF_ART</td>\n",
       "      <td>1</td>\n",
       "    </tr>\n",
       "    <tr>\n",
       "      <th>5</th>\n",
       "      <td>\"Can we take the ferry across?</td>\n",
       "      <td>33-1985-056</td>\n",
       "      <td>WORK_OF_ART</td>\n",
       "      <td>1</td>\n",
       "    </tr>\n",
       "    <tr>\n",
       "      <th>6</th>\n",
       "      <td>\"Come Go With Me</td>\n",
       "      <td>0-1-018</td>\n",
       "      <td>WORK_OF_ART</td>\n",
       "      <td>1</td>\n",
       "    </tr>\n",
       "    <tr>\n",
       "      <th>7</th>\n",
       "      <td>\"Crossing Delancy</td>\n",
       "      <td>54-1589</td>\n",
       "      <td>WORK_OF_ART</td>\n",
       "      <td>1</td>\n",
       "    </tr>\n",
       "    <tr>\n",
       "      <th>8</th>\n",
       "      <td>\"Crunch Something</td>\n",
       "      <td>62-222</td>\n",
       "      <td>WORK_OF_ART</td>\n",
       "      <td>1</td>\n",
       "    </tr>\n",
       "    <tr>\n",
       "      <th>9</th>\n",
       "      <td>\"Emily Combusted</td>\n",
       "      <td>36-055</td>\n",
       "      <td>WORK_OF_ART</td>\n",
       "      <td>1</td>\n",
       "    </tr>\n",
       "  </tbody>\n",
       "</table>\n",
       "</div>"
      ],
      "text/plain": [
       "                             text          idx  entity_type  count\n",
       "0                        \" - Tree       59-362  WORK_OF_ART      1\n",
       "1            \" George of Seinfeld      17-3274  WORK_OF_ART      1\n",
       "2                          \"Ba Ba       42-497       PERSON      1\n",
       "3         \"Burning The House Down      42-1669  WORK_OF_ART      1\n",
       "4  \"Can You Feel the Love Tonight      8-B-128  WORK_OF_ART      1\n",
       "5  \"Can we take the ferry across?  33-1985-056  WORK_OF_ART      1\n",
       "6                \"Come Go With Me      0-1-018  WORK_OF_ART      1\n",
       "7               \"Crossing Delancy      54-1589  WORK_OF_ART      1\n",
       "8               \"Crunch Something       62-222  WORK_OF_ART      1\n",
       "9                \"Emily Combusted       36-055  WORK_OF_ART      1"
      ]
     },
     "execution_count": 11,
     "metadata": {},
     "output_type": "execute_result"
    }
   ],
   "source": [
    "g.head(10)"
   ]
  },
  {
   "cell_type": "code",
   "execution_count": 12,
   "metadata": {},
   "outputs": [
    {
     "data": {
      "text/plain": [
       "PERSON         23793\n",
       "CARDINAL       18641\n",
       "ORG             7198\n",
       "DATE            6841\n",
       "GPE             5073\n",
       "ORDINAL         4383\n",
       "TIME            4314\n",
       "NORP            2200\n",
       "QUANTITY        1560\n",
       "MONEY           1394\n",
       "FAC             1085\n",
       "LOC              920\n",
       "WORK_OF_ART      908\n",
       "PRODUCT          355\n",
       "LANGUAGE         306\n",
       "EVENT            155\n",
       "PERCENT           60\n",
       "LAW               45\n",
       "Name: entity_type, dtype: int64"
      ]
     },
     "execution_count": 12,
     "metadata": {},
     "output_type": "execute_result"
    }
   ],
   "source": [
    "g.entity_type.value_counts()"
   ]
  },
  {
   "cell_type": "markdown",
   "metadata": {},
   "source": [
    "## 4. Load dreams into Neo4j database running on Docker <a class=\"anchor\" id=\"neo4j\"></a>\n",
    "\n",
    "[Back to top](#top)\n",
    "\n",
    "\n",
    "Follow these instructions to [start a local Neo4j database instance in Docker.](https://neo4j.com/developer/docker-run-neo4j/)\n",
    "\n",
    "For example, this is a simple bash script start-neo4j-container.sh that spins up a Neo4j container, mounts the requisite folders with the data and installs apoc and Graph Data Science libraries.\n",
    "\n",
    "\n"
   ]
  },
  {
   "cell_type": "markdown",
   "metadata": {},
   "source": [
    "```bash \n",
    "#!/bin/sh\n",
    "\n",
    "docker run \\\n",
    "\t-u `id -u $USER` \\\n",
    "\t--publish=7473:7473 \\\n",
    "\t--publish=7474:7474 \\\n",
    "\t--publish=7687:7687 \\\n",
    "\t--rm \\\n",
    "\t--volume=/home/areias/Documents/kineviz/dreams/data:/data \\\n",
    "\t--volume=/home/areias/Documents/kineviz/dreams/plugins:/plugins \\\n",
    "    --volume=/home/areias/Documents/kineviz/dreams/import:/var/lib/neo4j/import  \\\n",
    "\t--env NEO4J_AUTH=neo4j/test \\\n",
    "    -e NEO4J_apoc_export_file_enabled=true \\\n",
    "    -e NEO4J_apoc_import_file_enabled=true \\\n",
    "    -e NEO4J_apoc_import_file_use__neo4j__config=true \\\n",
    "    -e NEO4JLABS_PLUGINS='[\"apoc\", \"graph-data-science\"]' \\\n",
    "\t--name neo4j \\\n",
    "\t  neo4j \\\n",
    "```"
   ]
  },
  {
   "cell_type": "markdown",
   "metadata": {},
   "source": [
    "Then we can upload the data into Neo4j via Python."
   ]
  },
  {
   "cell_type": "code",
   "execution_count": 4,
   "metadata": {},
   "outputs": [],
   "source": [
    "from py2neo import  Graph, Node\n"
   ]
  },
  {
   "cell_type": "code",
   "execution_count": 3,
   "metadata": {},
   "outputs": [],
   "source": [
    "# connecting to neo4j db\n",
    "graphdb = Graph(scheme=\"bolt\", host=\"localhost\", port=7687, secure=False, \n",
    "                auth=('neo4j', 'test'))\n",
    "#graphdb.delete_all(), useful in case you want to start over\n"
   ]
  },
  {
   "cell_type": "markdown",
   "metadata": {},
   "source": [
    "### Create constraints"
   ]
  },
  {
   "cell_type": "code",
   "execution_count": 7,
   "metadata": {},
   "outputs": [
    {
     "data": {
      "text/plain": [
       "<py2neo.database.Cursor at 0x7f94476cae90>"
      ]
     },
     "execution_count": 7,
     "metadata": {},
     "output_type": "execute_result"
    }
   ],
   "source": [
    "# creating constraints\n",
    "query=\"\"\"CREATE CONSTRAINT ON (d:Dreamer) ASSERT d.name IS UNIQUE\"\"\"\n",
    "graphdb.run(query)"
   ]
  },
  {
   "cell_type": "code",
   "execution_count": 8,
   "metadata": {},
   "outputs": [
    {
     "data": {
      "text/plain": [
       "<py2neo.database.Cursor at 0x7f94704ce890>"
      ]
     },
     "execution_count": 8,
     "metadata": {},
     "output_type": "execute_result"
    }
   ],
   "source": [
    "query=\"\"\"CREATE CONSTRAINT ON (d:Dream) ASSERT d.idx IS UNIQUE\"\"\"\n",
    "graphdb.run(query)"
   ]
  },
  {
   "cell_type": "code",
   "execution_count": 9,
   "metadata": {},
   "outputs": [
    {
     "data": {
      "text/plain": [
       "<py2neo.database.Cursor at 0x7f94704e9a90>"
      ]
     },
     "execution_count": 9,
     "metadata": {},
     "output_type": "execute_result"
    }
   ],
   "source": [
    "query=\"\"\"CREATE CONSTRAINT ON (d:Entity) ASSERT d.id IS UNIQUE\"\"\"\n",
    "graphdb.run(query)"
   ]
  },
  {
   "cell_type": "markdown",
   "metadata": {},
   "source": [
    "### Loading Dreamer nodes"
   ]
  },
  {
   "cell_type": "code",
   "execution_count": 10,
   "metadata": {},
   "outputs": [],
   "source": [
    "df=pd.read_csv(\"../data/dreams-neighbors.csv\")"
   ]
  },
  {
   "cell_type": "code",
   "execution_count": 11,
   "metadata": {},
   "outputs": [
    {
     "data": {
      "text/html": [
       "<div>\n",
       "<style scoped>\n",
       "    .dataframe tbody tr th:only-of-type {\n",
       "        vertical-align: middle;\n",
       "    }\n",
       "\n",
       "    .dataframe tbody tr th {\n",
       "        vertical-align: top;\n",
       "    }\n",
       "\n",
       "    .dataframe thead th {\n",
       "        text-align: right;\n",
       "    }\n",
       "</style>\n",
       "<table border=\"1\" class=\"dataframe\">\n",
       "  <thead>\n",
       "    <tr style=\"text-align: right;\">\n",
       "      <th></th>\n",
       "      <th>dreamer</th>\n",
       "      <th>description</th>\n",
       "    </tr>\n",
       "  </thead>\n",
       "  <tbody>\n",
       "    <tr>\n",
       "      <th>0</th>\n",
       "      <td>phil1</td>\n",
       "      <td>Phil 1: teens</td>\n",
       "    </tr>\n",
       "    <tr>\n",
       "      <th>106</th>\n",
       "      <td>phil2</td>\n",
       "      <td>Phil 2: late 20s</td>\n",
       "    </tr>\n",
       "    <tr>\n",
       "      <th>326</th>\n",
       "      <td>jasmine4</td>\n",
       "      <td>Jasmine 4: college 2</td>\n",
       "    </tr>\n",
       "    <tr>\n",
       "      <th>420</th>\n",
       "      <td>seventh_graders</td>\n",
       "      <td>Seventh grade girls</td>\n",
       "    </tr>\n",
       "    <tr>\n",
       "      <th>489</th>\n",
       "      <td>jeff</td>\n",
       "      <td>Jeff: a lucid dreamer</td>\n",
       "    </tr>\n",
       "  </tbody>\n",
       "</table>\n",
       "</div>"
      ],
      "text/plain": [
       "             dreamer            description\n",
       "0              phil1          Phil 1: teens\n",
       "106            phil2       Phil 2: late 20s\n",
       "326         jasmine4   Jasmine 4: college 2\n",
       "420  seventh_graders    Seventh grade girls\n",
       "489             jeff  Jeff: a lucid dreamer"
      ]
     },
     "execution_count": 11,
     "metadata": {},
     "output_type": "execute_result"
    }
   ],
   "source": [
    "# Dreamer nodes\n",
    "d=df[['dreamer','description']]\n",
    "d=d.drop_duplicates()\n",
    "d.head()"
   ]
  },
  {
   "cell_type": "code",
   "execution_count": 12,
   "metadata": {},
   "outputs": [
    {
     "data": {
      "text/plain": [
       "69"
      ]
     },
     "execution_count": 12,
     "metadata": {},
     "output_type": "execute_result"
    }
   ],
   "source": [
    "len(d)"
   ]
  },
  {
   "cell_type": "code",
   "execution_count": 13,
   "metadata": {},
   "outputs": [],
   "source": [
    "dreamers=[{\"name\": x[1]['dreamer'],\n",
    " \"description\": x[1]['description']} for x in d.iterrows()]"
   ]
  },
  {
   "cell_type": "code",
   "execution_count": 14,
   "metadata": {},
   "outputs": [
    {
     "data": {
      "text/plain": [
       "[{'name': 'phil1', 'description': 'Phil 1: teens'},\n",
       " {'name': 'phil2', 'description': 'Phil 2: late 20s'},\n",
       " {'name': 'jasmine4', 'description': 'Jasmine 4: college 2'},\n",
       " {'name': 'seventh_graders', 'description': 'Seventh grade girls'},\n",
       " {'name': 'jeff', 'description': 'Jeff: a lucid dreamer'}]"
      ]
     },
     "execution_count": 14,
     "metadata": {},
     "output_type": "execute_result"
    }
   ],
   "source": [
    "dreamers[0:5]"
   ]
  },
  {
   "cell_type": "code",
   "execution_count": 15,
   "metadata": {},
   "outputs": [
    {
     "data": {
      "text/plain": [
       "<py2neo.database.Cursor at 0x7f94412ce410>"
      ]
     },
     "execution_count": 15,
     "metadata": {},
     "output_type": "execute_result"
    }
   ],
   "source": [
    "query = \"\"\"\n",
    "    UNWIND $dreamers AS dreamer\n",
    "    MERGE (d:Dreamer {name: dreamer.name, description: dreamer.description})\"\"\"\n",
    "graphdb.run(query, {\"dreamers\":dreamers})"
   ]
  },
  {
   "cell_type": "markdown",
   "metadata": {},
   "source": [
    "### Creating Dream nodes and connecting them to Dreamers with the DREAMT_BY relationship"
   ]
  },
  {
   "cell_type": "code",
   "execution_count": 16,
   "metadata": {},
   "outputs": [],
   "source": [
    "dreams=[{\"dreamer\": x[1]['dreamer'],\n",
    "         \"content\": x[1]['content'],\n",
    "        \"date\": x[1]['head'] ,\n",
    "        \"number\": x[1]['number'],\n",
    "        \"idx\":x[1]['idx']} for x in df.iterrows()]"
   ]
  },
  {
   "cell_type": "code",
   "execution_count": 17,
   "metadata": {},
   "outputs": [
    {
     "data": {
      "text/plain": [
       "[{'dreamer': 'phil1',\n",
       "  'content': \"Uncle Albert is getting ready to leave for a vacation and is taking me along.  I don't want to go, and I tell Uncle Albert that someone is coming by to get me at 11:00 a.m., but it makes no difference.  Someone does finally come by for me, though:  Uncle Joe.  On the way home (or wherever we are going), we stop at an old school (2-storey) where summer school is going on.  I am to tell Pat Byers goodbye.  There are about 8 rooms on each floor.  I go to the door and look in each one.  Everyone is apparently having a lot of fun.  When I am spotted, I get in trouble for being out of class, but I explain that I don't go to school there and I have come to tell someone goodbye.  I am beginning to think that I won't find her when I see the back of her head, in the 16th room upstairs.  I tell her goodbye-I don't remember how..  By the time I go back outside, it is dusk, and almost dark.  I wait until dark for Uncle Joe, look around the building, etc., but can't find him.  I am growing worried.\",\n",
       "  'date': '1957-08-05',\n",
       "  'number': '1-001',\n",
       "  'idx': '0-1-001'},\n",
       " {'dreamer': 'phil1',\n",
       "  'content': \"I go to a ball game with Uncle Ben and Aunt Aimee.  The ball park has lights, stands, very short but high wooden fences.  McAddo High is playing.  As I am standing by the bench, Coach Bowles tells me to play center field.  This means I may get to bat this inning.  The coach gives me detailed instructions on how to hit the pitcher-how to stand, what to look for, etc.  I look at the pitcher, and to my amazement he is just lobbing the ball.  And the fences-strangely wire now--are ridiculously close.  The batter just before me makes the last out.  Thinking the game is over, I walk out of the gate.  Then I find out that the game is not over.  I ask the lady selling tickets if I may go back in, since I just came out.  She says no, so I watch the rest of the game from outside the fence.  McAddo High loses.  Aunt Aimee says that some friends are coming by to take them home.  She doesn't want to ask them to take me home, so requests that I call Grandpa, Mother, or someone else to come and get me.  I am greatly dismayed.  It is 11:30 p.m.  Somehow I get home.\",\n",
       "  'date': '1957-08-06',\n",
       "  'number': '1-002',\n",
       "  'idx': '0-1-002'}]"
      ]
     },
     "execution_count": 17,
     "metadata": {},
     "output_type": "execute_result"
    }
   ],
   "source": [
    "dreams[0:2]"
   ]
  },
  {
   "cell_type": "code",
   "execution_count": 18,
   "metadata": {},
   "outputs": [
    {
     "data": {
      "text/plain": [
       "<py2neo.database.Cursor at 0x7f94467cb050>"
      ]
     },
     "execution_count": 18,
     "metadata": {},
     "output_type": "execute_result"
    }
   ],
   "source": [
    "query = \"\"\"\n",
    "    UNWIND $dreams AS dream\n",
    "    MERGE (d:Dream {content: dream.content,\n",
    "        date: dream.date,\n",
    "        number: dream.number,\n",
    "        dreamer: dream.dreamer,\n",
    "        idx: dream.idx})\n",
    "    MERGE (dr:Dreamer {name: dream.dreamer})\n",
    "    MERGE (d)-[:DREAMT_BY]->(dr)\n",
    "        \"\"\"\n",
    "graphdb.run(query, {\"dreams\":dreams})"
   ]
  },
  {
   "cell_type": "markdown",
   "metadata": {},
   "source": [
    "### Joining similiar dreams with the MOST_SIMILAR relationship\n",
    "\n",
    "Connecting all dreams with similarity score above 0.6."
   ]
  },
  {
   "cell_type": "code",
   "execution_count": 19,
   "metadata": {},
   "outputs": [],
   "source": [
    "similar=[]\n",
    "for row in df.iterrows():\n",
    "    origin=row[1]['idx']\n",
    "    neighbors=eval(row[1]['neighbors'])\n",
    "    similar+=[(origin, df.iloc[n[0]]['idx'],n[1]) for n in neighbors if n[1]>0.6]"
   ]
  },
  {
   "cell_type": "code",
   "execution_count": 20,
   "metadata": {},
   "outputs": [
    {
     "data": {
      "text/plain": [
       "62683"
      ]
     },
     "execution_count": 20,
     "metadata": {},
     "output_type": "execute_result"
    }
   ],
   "source": [
    "len(similar)"
   ]
  },
  {
   "cell_type": "code",
   "execution_count": 46,
   "metadata": {},
   "outputs": [
    {
     "data": {
      "text/plain": [
       "[('0-1-004', '48-1071', 0.6237183809280396),\n",
       " ('0-1-005', '48-0105', 0.7950225472450256),\n",
       " ('0-1-005', '54-1268', 0.7905269265174866),\n",
       " ('0-1-005', '38-0371', 0.7870646119117737),\n",
       " ('0-1-005', '35-257', 0.7848039865493774)]"
      ]
     },
     "execution_count": 46,
     "metadata": {},
     "output_type": "execute_result"
    }
   ],
   "source": [
    "similar[0:5]"
   ]
  },
  {
   "cell_type": "code",
   "execution_count": 47,
   "metadata": {},
   "outputs": [],
   "source": [
    "r=[{\"origin\":x[0],\n",
    " \"target\":x[1],\n",
    " \"weight\":x[2] } for x in similar]"
   ]
  },
  {
   "cell_type": "code",
   "execution_count": 52,
   "metadata": {},
   "outputs": [
    {
     "data": {
      "text/plain": [
       "<py2neo.database.Cursor at 0x7f943bbcb590>"
      ]
     },
     "execution_count": 52,
     "metadata": {},
     "output_type": "execute_result"
    }
   ],
   "source": [
    "query = \"\"\"\n",
    "    UNWIND $dreams AS dream\n",
    "    MERGE (d:Dream {idx: dream.origin})\n",
    "    MERGE (d2:Dream {idx: dream.target})\n",
    "    MERGE (d)-[m:MOST_SIMILAR]->(d2)\n",
    "        SET m.similarity=dream.weight \n",
    "    \"\"\"\n",
    "graphdb.run(query, {\"dreams\":r})"
   ]
  },
  {
   "cell_type": "markdown",
   "metadata": {},
   "source": [
    "### Loading Named Entity nodes"
   ]
  },
  {
   "cell_type": "code",
   "execution_count": 25,
   "metadata": {},
   "outputs": [],
   "source": [
    "df=pd.read_csv(\"../data/dream-entities.csv\")\n"
   ]
  },
  {
   "cell_type": "code",
   "execution_count": 26,
   "metadata": {},
   "outputs": [
    {
     "data": {
      "text/plain": [
       "79231"
      ]
     },
     "execution_count": 26,
     "metadata": {},
     "output_type": "execute_result"
    }
   ],
   "source": [
    "len(df)"
   ]
  },
  {
   "cell_type": "code",
   "execution_count": 27,
   "metadata": {},
   "outputs": [
    {
     "data": {
      "text/html": [
       "<div>\n",
       "<style scoped>\n",
       "    .dataframe tbody tr th:only-of-type {\n",
       "        vertical-align: middle;\n",
       "    }\n",
       "\n",
       "    .dataframe tbody tr th {\n",
       "        vertical-align: top;\n",
       "    }\n",
       "\n",
       "    .dataframe thead th {\n",
       "        text-align: right;\n",
       "    }\n",
       "</style>\n",
       "<table border=\"1\" class=\"dataframe\">\n",
       "  <thead>\n",
       "    <tr style=\"text-align: right;\">\n",
       "      <th></th>\n",
       "      <th>text</th>\n",
       "      <th>idx</th>\n",
       "      <th>entity_type</th>\n",
       "      <th>count</th>\n",
       "    </tr>\n",
       "  </thead>\n",
       "  <tbody>\n",
       "    <tr>\n",
       "      <th>0</th>\n",
       "      <td>\" - Tree</td>\n",
       "      <td>59-362</td>\n",
       "      <td>WORK_OF_ART</td>\n",
       "      <td>1</td>\n",
       "    </tr>\n",
       "    <tr>\n",
       "      <th>1</th>\n",
       "      <td>\" George of Seinfeld</td>\n",
       "      <td>17-3274</td>\n",
       "      <td>WORK_OF_ART</td>\n",
       "      <td>1</td>\n",
       "    </tr>\n",
       "    <tr>\n",
       "      <th>2</th>\n",
       "      <td>\"Ba Ba</td>\n",
       "      <td>42-497</td>\n",
       "      <td>PERSON</td>\n",
       "      <td>1</td>\n",
       "    </tr>\n",
       "    <tr>\n",
       "      <th>3</th>\n",
       "      <td>\"Burning The House Down</td>\n",
       "      <td>42-1669</td>\n",
       "      <td>WORK_OF_ART</td>\n",
       "      <td>1</td>\n",
       "    </tr>\n",
       "    <tr>\n",
       "      <th>4</th>\n",
       "      <td>\"Can You Feel the Love Tonight</td>\n",
       "      <td>8-B-128</td>\n",
       "      <td>WORK_OF_ART</td>\n",
       "      <td>1</td>\n",
       "    </tr>\n",
       "  </tbody>\n",
       "</table>\n",
       "</div>"
      ],
      "text/plain": [
       "                             text      idx  entity_type  count\n",
       "0                        \" - Tree   59-362  WORK_OF_ART      1\n",
       "1            \" George of Seinfeld  17-3274  WORK_OF_ART      1\n",
       "2                          \"Ba Ba   42-497       PERSON      1\n",
       "3         \"Burning The House Down  42-1669  WORK_OF_ART      1\n",
       "4  \"Can You Feel the Love Tonight  8-B-128  WORK_OF_ART      1"
      ]
     },
     "execution_count": 27,
     "metadata": {},
     "output_type": "execute_result"
    }
   ],
   "source": [
    "df.head()"
   ]
  },
  {
   "cell_type": "code",
   "execution_count": 28,
   "metadata": {},
   "outputs": [],
   "source": [
    "e=df.loc[:,['text','entity_type']]\n",
    "e=e.drop_duplicates()"
   ]
  },
  {
   "cell_type": "code",
   "execution_count": 29,
   "metadata": {},
   "outputs": [
    {
     "data": {
      "text/plain": [
       "20936"
      ]
     },
     "execution_count": 29,
     "metadata": {},
     "output_type": "execute_result"
    }
   ],
   "source": [
    "len(e)"
   ]
  },
  {
   "cell_type": "code",
   "execution_count": 30,
   "metadata": {},
   "outputs": [],
   "source": [
    "e['id']=range(len(e))"
   ]
  },
  {
   "cell_type": "code",
   "execution_count": 31,
   "metadata": {},
   "outputs": [
    {
     "data": {
      "text/html": [
       "<div>\n",
       "<style scoped>\n",
       "    .dataframe tbody tr th:only-of-type {\n",
       "        vertical-align: middle;\n",
       "    }\n",
       "\n",
       "    .dataframe tbody tr th {\n",
       "        vertical-align: top;\n",
       "    }\n",
       "\n",
       "    .dataframe thead th {\n",
       "        text-align: right;\n",
       "    }\n",
       "</style>\n",
       "<table border=\"1\" class=\"dataframe\">\n",
       "  <thead>\n",
       "    <tr style=\"text-align: right;\">\n",
       "      <th></th>\n",
       "      <th>text</th>\n",
       "      <th>entity_type</th>\n",
       "      <th>id</th>\n",
       "    </tr>\n",
       "  </thead>\n",
       "  <tbody>\n",
       "    <tr>\n",
       "      <th>0</th>\n",
       "      <td>\" - Tree</td>\n",
       "      <td>WORK_OF_ART</td>\n",
       "      <td>0</td>\n",
       "    </tr>\n",
       "    <tr>\n",
       "      <th>1</th>\n",
       "      <td>\" George of Seinfeld</td>\n",
       "      <td>WORK_OF_ART</td>\n",
       "      <td>1</td>\n",
       "    </tr>\n",
       "    <tr>\n",
       "      <th>2</th>\n",
       "      <td>\"Ba Ba</td>\n",
       "      <td>PERSON</td>\n",
       "      <td>2</td>\n",
       "    </tr>\n",
       "    <tr>\n",
       "      <th>3</th>\n",
       "      <td>\"Burning The House Down</td>\n",
       "      <td>WORK_OF_ART</td>\n",
       "      <td>3</td>\n",
       "    </tr>\n",
       "    <tr>\n",
       "      <th>4</th>\n",
       "      <td>\"Can You Feel the Love Tonight</td>\n",
       "      <td>WORK_OF_ART</td>\n",
       "      <td>4</td>\n",
       "    </tr>\n",
       "  </tbody>\n",
       "</table>\n",
       "</div>"
      ],
      "text/plain": [
       "                             text  entity_type  id\n",
       "0                        \" - Tree  WORK_OF_ART   0\n",
       "1            \" George of Seinfeld  WORK_OF_ART   1\n",
       "2                          \"Ba Ba       PERSON   2\n",
       "3         \"Burning The House Down  WORK_OF_ART   3\n",
       "4  \"Can You Feel the Love Tonight  WORK_OF_ART   4"
      ]
     },
     "execution_count": 31,
     "metadata": {},
     "output_type": "execute_result"
    }
   ],
   "source": [
    "e.head()"
   ]
  },
  {
   "cell_type": "code",
   "execution_count": 32,
   "metadata": {},
   "outputs": [],
   "source": [
    "entities=[{\"entity\": x[1]['text'],\n",
    "         \"type\": x[1]['entity_type'],\n",
    "        \"id\": x[1]['id']} for x in e.iterrows()]"
   ]
  },
  {
   "cell_type": "code",
   "execution_count": 33,
   "metadata": {},
   "outputs": [
    {
     "data": {
      "text/plain": [
       "[{'entity': '\" - Tree', 'type': 'WORK_OF_ART', 'id': 0},\n",
       " {'entity': '\" George of Seinfeld', 'type': 'WORK_OF_ART', 'id': 1},\n",
       " {'entity': '\"Ba Ba', 'type': 'PERSON', 'id': 2},\n",
       " {'entity': '\"Burning The House Down', 'type': 'WORK_OF_ART', 'id': 3},\n",
       " {'entity': '\"Can You Feel the Love Tonight', 'type': 'WORK_OF_ART', 'id': 4}]"
      ]
     },
     "execution_count": 33,
     "metadata": {},
     "output_type": "execute_result"
    }
   ],
   "source": [
    "entities[0:5]"
   ]
  },
  {
   "cell_type": "code",
   "execution_count": 34,
   "metadata": {},
   "outputs": [
    {
     "data": {
      "text/plain": [
       "<py2neo.database.Cursor at 0x7f943fb39750>"
      ]
     },
     "execution_count": 34,
     "metadata": {},
     "output_type": "execute_result"
    }
   ],
   "source": [
    "query = \"\"\"\n",
    "    UNWIND $entities AS ent\n",
    "    MERGE (e:Entity {text: ent.entity, type: ent.type, id: ent.id})\"\"\"\n",
    "graphdb.run(query, {\"entities\":entities})"
   ]
  },
  {
   "cell_type": "code",
   "execution_count": 35,
   "metadata": {},
   "outputs": [
    {
     "data": {
      "text/plain": [
       "79231"
      ]
     },
     "execution_count": 35,
     "metadata": {},
     "output_type": "execute_result"
    }
   ],
   "source": [
    "len(df)"
   ]
  },
  {
   "cell_type": "markdown",
   "metadata": {},
   "source": [
    "### Connecting Dreams and their Entities with the HAS_ENTITY relationship"
   ]
  },
  {
   "cell_type": "code",
   "execution_count": 36,
   "metadata": {},
   "outputs": [],
   "source": [
    "df=pd.merge(df,e,on=['text','entity_type'],how=\"left\")"
   ]
  },
  {
   "cell_type": "code",
   "execution_count": 37,
   "metadata": {},
   "outputs": [
    {
     "data": {
      "text/html": [
       "<div>\n",
       "<style scoped>\n",
       "    .dataframe tbody tr th:only-of-type {\n",
       "        vertical-align: middle;\n",
       "    }\n",
       "\n",
       "    .dataframe tbody tr th {\n",
       "        vertical-align: top;\n",
       "    }\n",
       "\n",
       "    .dataframe thead th {\n",
       "        text-align: right;\n",
       "    }\n",
       "</style>\n",
       "<table border=\"1\" class=\"dataframe\">\n",
       "  <thead>\n",
       "    <tr style=\"text-align: right;\">\n",
       "      <th></th>\n",
       "      <th>text</th>\n",
       "      <th>idx</th>\n",
       "      <th>entity_type</th>\n",
       "      <th>count</th>\n",
       "      <th>id</th>\n",
       "    </tr>\n",
       "  </thead>\n",
       "  <tbody>\n",
       "    <tr>\n",
       "      <th>0</th>\n",
       "      <td>\" - Tree</td>\n",
       "      <td>59-362</td>\n",
       "      <td>WORK_OF_ART</td>\n",
       "      <td>1</td>\n",
       "      <td>0</td>\n",
       "    </tr>\n",
       "    <tr>\n",
       "      <th>1</th>\n",
       "      <td>\" George of Seinfeld</td>\n",
       "      <td>17-3274</td>\n",
       "      <td>WORK_OF_ART</td>\n",
       "      <td>1</td>\n",
       "      <td>1</td>\n",
       "    </tr>\n",
       "    <tr>\n",
       "      <th>2</th>\n",
       "      <td>\"Ba Ba</td>\n",
       "      <td>42-497</td>\n",
       "      <td>PERSON</td>\n",
       "      <td>1</td>\n",
       "      <td>2</td>\n",
       "    </tr>\n",
       "    <tr>\n",
       "      <th>3</th>\n",
       "      <td>\"Burning The House Down</td>\n",
       "      <td>42-1669</td>\n",
       "      <td>WORK_OF_ART</td>\n",
       "      <td>1</td>\n",
       "      <td>3</td>\n",
       "    </tr>\n",
       "    <tr>\n",
       "      <th>4</th>\n",
       "      <td>\"Can You Feel the Love Tonight</td>\n",
       "      <td>8-B-128</td>\n",
       "      <td>WORK_OF_ART</td>\n",
       "      <td>1</td>\n",
       "      <td>4</td>\n",
       "    </tr>\n",
       "  </tbody>\n",
       "</table>\n",
       "</div>"
      ],
      "text/plain": [
       "                             text      idx  entity_type  count  id\n",
       "0                        \" - Tree   59-362  WORK_OF_ART      1   0\n",
       "1            \" George of Seinfeld  17-3274  WORK_OF_ART      1   1\n",
       "2                          \"Ba Ba   42-497       PERSON      1   2\n",
       "3         \"Burning The House Down  42-1669  WORK_OF_ART      1   3\n",
       "4  \"Can You Feel the Love Tonight  8-B-128  WORK_OF_ART      1   4"
      ]
     },
     "execution_count": 37,
     "metadata": {},
     "output_type": "execute_result"
    }
   ],
   "source": [
    "df.head()"
   ]
  },
  {
   "cell_type": "code",
   "execution_count": 38,
   "metadata": {},
   "outputs": [],
   "source": [
    "entities=[{\"idx\": x[1]['idx'],\n",
    "         \"id\": x[1]['id']} for x in df.iterrows()]"
   ]
  },
  {
   "cell_type": "code",
   "execution_count": 39,
   "metadata": {},
   "outputs": [
    {
     "data": {
      "text/plain": [
       "[{'idx': '59-362', 'id': 0},\n",
       " {'idx': '17-3274', 'id': 1},\n",
       " {'idx': '42-497', 'id': 2},\n",
       " {'idx': '42-1669', 'id': 3},\n",
       " {'idx': '8-B-128', 'id': 4}]"
      ]
     },
     "execution_count": 39,
     "metadata": {},
     "output_type": "execute_result"
    }
   ],
   "source": [
    "entities[0:5]"
   ]
  },
  {
   "cell_type": "code",
   "execution_count": 41,
   "metadata": {},
   "outputs": [
    {
     "data": {
      "text/plain": [
       "79231"
      ]
     },
     "execution_count": 41,
     "metadata": {},
     "output_type": "execute_result"
    }
   ],
   "source": [
    "len(entities)"
   ]
  },
  {
   "cell_type": "code",
   "execution_count": 40,
   "metadata": {},
   "outputs": [
    {
     "data": {
      "text/plain": [
       "<py2neo.database.Cursor at 0x7f943fd6cf50>"
      ]
     },
     "execution_count": 40,
     "metadata": {},
     "output_type": "execute_result"
    }
   ],
   "source": [
    "query=\"\"\"\n",
    "    UNWIND $entities AS ent\n",
    "    MERGE (e:Entity {id: ent.id})\n",
    "    MERGE (d:Dream {idx: ent.idx})\n",
    "    MERGE (d)-[:HAS_ENTITY]->(e)\n",
    "    \"\"\"\n",
    "graphdb.run(query, {\"entities\":entities})"
   ]
  },
  {
   "cell_type": "markdown",
   "metadata": {},
   "source": [
    "Now we have the following schema set up on Neo4j:\n",
    "\n",
    "![](../images/schema.png)"
   ]
  },
  {
   "cell_type": "markdown",
   "metadata": {},
   "source": [
    "### 1.5. Text-to-Image generation with Aleph2Image and Google Colaboratory <a class=\"anchor\" id=\"colab\"></a>\n",
    "\n",
    "[Back to top](#top)\n",
    "\n",
    "Finally, for each dream we want to create an image related to the dream content. \n",
    "\n",
    "For this we use Aleph2Image Delta pytorch model, available as a [Google Colaboratory notebook](https://colab.research.google.com/drive/1oA1fZP7N1uPBxwbGIvOEXbTsq2ORa9vb?usp=sharing#scrollTo=2aDcCMUnjQLh) developed by tech artist [@advadnoun](https://twitter.com/advadnoun) on Twitter.\n",
    "\n",
    "Google Colaboratory allows you to use a free GPU instance to run the Pytorch model and generate images based on a text prompt. We use the first sentence of a dream journal entry. \n",
    "\n",
    "Host your resulting images on Github so we can link to them in GraphXR and make them part of the dreamscape as we detail in section 2.4.\n",
    "\n"
   ]
  },
  {
   "cell_type": "markdown",
   "metadata": {},
   "source": [
    "A couple of my favourites images are this one based dreamer Chuck's dream from 1992.\n",
    "\n",
    "> I am reading about a new type of professional soccer league in a color weekly news magazine. There is a description of the game and some of the new teams, including a team named the \"Cosmos\", which the magazine article says may follow in a \"tradition of dynasty by previous teams of the same name in earlier leagues.\" I find myself at the opening game playing for the \"Cosmos\". The rules are a bit changed from regular soccer: a center square portion of the field is quite a bit raised in elevation over the rest (i.e., it is not a level playing field.) This center portion is landscaped with bushes and trees, and the rest of the field, which looks like a standard field, is reached by steep ramps. Play begins at the center of the square section. The ball makes its way towards the goal of the opponents of the \"Cosmos\". I am standing there, and when the ball is nearby I kick it to the goal. I watch almost as if in slow-motion as the opponents' goal-keeper misses. I have scored a goal and everyone in the crowd cheers! Play resumes. I see that several players use their hands in this version of soccer, but I am not sure when this is allowed, so I decide to play as if it were regular soccer. Again I am standing near the opposing goal as the ball comes. I break out of a pack of players to get to the ball and from the right wing position I kick it into the goal. The poor opposing goalkeeper looks overwhelmed as the score goes by him. In an apparently new rule, after the goal is scored the goalkeeper himself kicks out the ball into play (instead of starting at the center of the field.) The opposing team plays sloppily and I quickly get possession of the ball again. I boot it hard directly at the goal and score a third time. The crowd goes wild as I exclaim, \"I LOVE this game!\" I turn to my brother X., who is one of my \"Cosmos\" teammates, and confide to him, \"Their goalie is not too good; they should get another one.\"\n",
    "\n",
    "\n",
    "![](../images/dreams/im_d52-31_100.png)"
   ]
  },
  {
   "cell_type": "markdown",
   "metadata": {},
   "source": [
    "And another based in the following dream journal entry by Phil2 from 1971.\n",
    "\n",
    ">  I was in a football stadium with my daughter Christina.  We kept climbing higher and higher, sometimes up steps with no railings, and I was always afraid Christina would fall, so I held her hand tightly.  At the top, apparently, was a wide grassy area where Johnny Unitas was warming up with another player, throwing a football back and forth.  I wondered if Unitas had been traded, because it seemed that Baltimore was not one of the teams playing that day.  Once, the ball they were throwing got away and bounced over to me.  I was still holding on to Christina, afraid to let go, so I couldn't field it as smoothly as I wanted to.  And when I tried to throw it back, wanting very badly to throw an impressive pass, I couldn't get a good grip on the ball (even though it was very much under inflated), and it slipped out of my hand when I threw it.  I was surprised, therefore, when one of the guys threw me two different balls later on, and I threw good, sharp spirals back to him.  The stadium may have been -- probably was -- my alma mater's stadium, especially because of the flat grassy area above one end zone grandstand.\n",
    "\n",
    "![](../images/dreams/im_d1-2-116_100.png)"
   ]
  },
  {
   "cell_type": "code",
   "execution_count": 54,
   "metadata": {},
   "outputs": [
    {
     "data": {
      "text/plain": [
       "['im_d25-0425_100.png',\n",
       " 'im_d26-Mac-R-2_100.png',\n",
       " 'im_d32-M15-2_100.png',\n",
       " 'im_d28-0133_100.png',\n",
       " 'im_d42-082_100.png',\n",
       " 'im_d34-3-166_100.png',\n",
       " 'im_d34-3-074_100.png',\n",
       " 'im_d1-2-220_100.png',\n",
       " 'im_d63-219-03_100.png',\n",
       " 'im_d1-2-120_100.png',\n",
       " 'im_d1-2-159_100.png',\n",
       " 'im_d0-1-067_100.png',\n",
       " 'im_d34-3-180_100.png',\n",
       " 'im_d1-2-011_100.png',\n",
       " 'im_d1-2-048_100.png',\n",
       " 'im_d42-969_100.png',\n",
       " 'im_d1-2-116_100.png',\n",
       " 'im_d42-1638_100.png',\n",
       " 'im_d52-31_100.png',\n",
       " 'im_d1-2-084_100.png',\n",
       " 'im_d66-0357_100.png']"
      ]
     },
     "execution_count": 54,
     "metadata": {},
     "output_type": "execute_result"
    }
   ],
   "source": [
    "# ALeph2Image generated images pushed to github\n",
    "files=os.listdir(\"../images/dreams\")\n",
    "files"
   ]
  },
  {
   "cell_type": "code",
   "execution_count": 55,
   "metadata": {},
   "outputs": [
    {
     "data": {
      "text/plain": [
       "[{'idx': 'd25-0425',\n",
       "  'im_url': 'https://raw.githubusercontent.com/areias/dreams/master/images/dreams/im_d25-0425_100.png'},\n",
       " {'idx': 'd26-Mac-R-2',\n",
       "  'im_url': 'https://raw.githubusercontent.com/areias/dreams/master/images/dreams/im_d26-Mac-R-2_100.png'},\n",
       " {'idx': 'd32-M15-2',\n",
       "  'im_url': 'https://raw.githubusercontent.com/areias/dreams/master/images/dreams/im_d32-M15-2_100.png'},\n",
       " {'idx': 'd28-0133',\n",
       "  'im_url': 'https://raw.githubusercontent.com/areias/dreams/master/images/dreams/im_d28-0133_100.png'},\n",
       " {'idx': 'd42-082',\n",
       "  'im_url': 'https://raw.githubusercontent.com/areias/dreams/master/images/dreams/im_d42-082_100.png'},\n",
       " {'idx': 'd34-3-166',\n",
       "  'im_url': 'https://raw.githubusercontent.com/areias/dreams/master/images/dreams/im_d34-3-166_100.png'},\n",
       " {'idx': 'd34-3-074',\n",
       "  'im_url': 'https://raw.githubusercontent.com/areias/dreams/master/images/dreams/im_d34-3-074_100.png'},\n",
       " {'idx': 'd1-2-220',\n",
       "  'im_url': 'https://raw.githubusercontent.com/areias/dreams/master/images/dreams/im_d1-2-220_100.png'},\n",
       " {'idx': 'd63-219-03',\n",
       "  'im_url': 'https://raw.githubusercontent.com/areias/dreams/master/images/dreams/im_d63-219-03_100.png'},\n",
       " {'idx': 'd1-2-120',\n",
       "  'im_url': 'https://raw.githubusercontent.com/areias/dreams/master/images/dreams/im_d1-2-120_100.png'},\n",
       " {'idx': 'd1-2-159',\n",
       "  'im_url': 'https://raw.githubusercontent.com/areias/dreams/master/images/dreams/im_d1-2-159_100.png'},\n",
       " {'idx': 'd0-1-067',\n",
       "  'im_url': 'https://raw.githubusercontent.com/areias/dreams/master/images/dreams/im_d0-1-067_100.png'},\n",
       " {'idx': 'd34-3-180',\n",
       "  'im_url': 'https://raw.githubusercontent.com/areias/dreams/master/images/dreams/im_d34-3-180_100.png'},\n",
       " {'idx': 'd1-2-011',\n",
       "  'im_url': 'https://raw.githubusercontent.com/areias/dreams/master/images/dreams/im_d1-2-011_100.png'},\n",
       " {'idx': 'd1-2-048',\n",
       "  'im_url': 'https://raw.githubusercontent.com/areias/dreams/master/images/dreams/im_d1-2-048_100.png'},\n",
       " {'idx': 'd42-969',\n",
       "  'im_url': 'https://raw.githubusercontent.com/areias/dreams/master/images/dreams/im_d42-969_100.png'},\n",
       " {'idx': 'd1-2-116',\n",
       "  'im_url': 'https://raw.githubusercontent.com/areias/dreams/master/images/dreams/im_d1-2-116_100.png'},\n",
       " {'idx': 'd42-1638',\n",
       "  'im_url': 'https://raw.githubusercontent.com/areias/dreams/master/images/dreams/im_d42-1638_100.png'},\n",
       " {'idx': 'd52-31',\n",
       "  'im_url': 'https://raw.githubusercontent.com/areias/dreams/master/images/dreams/im_d52-31_100.png'},\n",
       " {'idx': 'd1-2-084',\n",
       "  'im_url': 'https://raw.githubusercontent.com/areias/dreams/master/images/dreams/im_d1-2-084_100.png'},\n",
       " {'idx': 'd66-0357',\n",
       "  'im_url': 'https://raw.githubusercontent.com/areias/dreams/master/images/dreams/im_d66-0357_100.png'}]"
      ]
     },
     "execution_count": 55,
     "metadata": {},
     "output_type": "execute_result"
    }
   ],
   "source": [
    "# generating github urls\n",
    "urls=[{\"idx\":x.split(\"_\")[1],\n",
    " \"im_url\": \"https://raw.githubusercontent.com/areias/dreams/master/images/dreams/\"+x} for x in files]\n",
    "urls"
   ]
  },
  {
   "cell_type": "code",
   "execution_count": 57,
   "metadata": {},
   "outputs": [
    {
     "data": {
      "text/plain": [
       "<py2neo.database.Cursor at 0x7f943abaa290>"
      ]
     },
     "execution_count": 57,
     "metadata": {},
     "output_type": "execute_result"
    }
   ],
   "source": [
    "# uploading the img_url property\n",
    "query=\"\"\"\n",
    "    UNWIND $urls as url\n",
    "    MATCH (d:Dream) where d.idx = url.idx\n",
    "    SET d.im_url = url.im_url \"\"\"\n",
    "graphdb.run(query, {'urls':urls})"
   ]
  },
  {
   "cell_type": "markdown",
   "metadata": {},
   "source": [
    "## 2. Visualization and exploration with GraphXR <a class=\"anchor\" id=\"part2\"></a>\n",
    "\n",
    "[Back to top](#top)\n",
    "\n",
    "In this section you can find step-by-step instructions on how to create the visualizations we shared in the main blogpost.\n",
    "\n",
    "First, [sign up to use GraphXR.](https://helpcenter.kineviz.com/user-guides/Working%20version/Logging-In-and-Out-of-GraphXR.985825405.html)\n",
    "\n",
    "Then [create a project and connect it to your local Neo4j instance](https://helpcenter.kineviz.com/user-guides/Working%20version/Introducing-GraphXR-Projects.1042743346.html#IntroducingGraphXRProjects-CreateaprojectconnectedtoaNeo4jdatabase) running on Docker. If you choose a \"GraphXR server connection\" this will enable you to share graph views with others. Make sure you only use non-proprietary data if you use this type of connection.\n",
    "\n",
    "Open your project, which will be empty to begin with. [Here are some tips to help you get quickly aquainted with the GraphXR project space.](https://helpcenter.kineviz.com/user-guides/Working%20version/Working-in-the-Project-Space.985825420.html)\n"
   ]
  },
  {
   "cell_type": "markdown",
   "metadata": {},
   "source": [
    "## 2.1. Shared dreams across dreamers  <a class=\"anchor\" id=\"shared\"></a>\n",
    "[Back to top](#top)\n",
    "\n",
    "For our first view, we can choose a dreamer and see what dreams they share with others.\n",
    "\n",
    "Open the [project panel in the main menu](https://helpcenter.kineviz.com/user-guides/Working%20version/Working-in-the-Project-Space.985825420.html#WorkingintheProjectSpace-Mainmenu) on the left edge of the graph space. It will look like this:\n",
    "\n",
    "\n",
    "![](../images/project-panel.png)\n",
    "\n",
    "* From the project panel, **Pull** some dreamer nodes, this brings up 25 dreamer nodes at a time.\n",
    "\n",
    "* [**Select**](https://helpcenter.kineviz.com/user-guides/Working%20version/Selecting-Graph-Data.1073087182.html) the dreamer of interest, using **inverse** and **delete** from the **context toolbar** on the lower edged of the graph space, we can delete all other dreamer nodes and be left with the one we would like to analyse.\n",
    "\n",
    "The context toolbar looks like this:\n",
    "\n",
    "![](../images/context-toolbar.png)\n",
    "\n",
    "* **Select** the dreamer node and select **Expand** from the context toolbar. This will bring up the Expand Relationships menu, choose the DREAMT_BY relationship to bring up that dreamer's dreams.\n",
    "\n",
    "![](../images/expand.png)\n",
    "\n",
    "\n",
    "* **Select** all dreams using the **legend** at the top right corner of the project space lets you review and select data by Category, Relationship, Tag, or Property. With all dreams selected, **expand** the MOST_SIMILAR relationship.\n",
    "\n",
    "The legend looks like this:\n",
    "\n",
    "![](../images/legend.png)\n",
    "\n",
    "* Now use the legend again but this time to select all dreams and **expand** the DREAMT_BY relationship so we can see who dreamt the similar dreams. Use **fly out** in the context toolbar to zoom out quickly and view the entire graph at once.\n",
    "\n",
    "* Finally, we want to array all dreams in circles around their dreamers, **select** dreamers using the legend, go to the [**Layouts**](https://helpcenter.kineviz.com/user-guides/Working%20version/Working-with-Layouts.985825442.html) menu,choose the [**Geometric**](https://helpcenter.kineviz.com/user-guides/Working%20version/Using-Geometric-Layouts.1094123636.html) tab and select **Rings** layout. \n",
    "\n",
    "Now we can see how our main dreamer in the middle of the graph shares dreams with other dreamers! And which dreamers he has more dreams in common with. You can also see all the above steps reproduced in [this video](https://www.youtube.com/watch?v=5_Txy17oqV0) for reference.\n",
    "\n",
    "![](../images/rings-layout.png)\n",
    "\n"
   ]
  },
  {
   "cell_type": "markdown",
   "metadata": {},
   "source": [
    "## 2.2. Dream interpretation <a class=\"anchor\" id=\"interpret\"></a>\n",
    "[Back to top](#top)\n",
    "\n",
    "What are the main topics that a dreamer dreams about? Here we look at the entities (persons, locations, date, etc) identified with spaCy for a dreamer and how they evolve across time.\n",
    "\n",
    "* **Pull** dreamer nodes, select a dreamer of interest, **inverse** and **delete** to keep only this dreamer node and remove the rest.\n",
    "\n",
    "* Select our dreamer node, **expand** the DREAMT_BY relationship.\n",
    "\n",
    "* Select all dreams using the legend and **expand** the HAS_ENTITY relationship. Don't forget you can use the **Fly out** function on the toolbar to zoom out and view the entire graph.\n",
    "\n",
    "* Now we want to array our dreams in a circle from newest dreams to oldest. Each dream has a \"number\" property which is the order the dream was dreamt in for that dreamer, for example number=1 is the first dream, number=2 is the second dream, and so forth. We can use this property to array the dreams in a circle in order of dream dreamt. Select all dreams using the legend, go to the **Layouts** panel, choose the **Geometric** tab and **Order by property**, choose Dream as **Category** and number as **Property**.\n",
    "\n",
    "* Now with the dreams arrayed in a circle, we can color them by longevity as well so we can see dreams that are newer and those that are oldest. Using the legend menu, select Dreams, then the **Property** tab, choose \"number\" from the drop down menu, tick **Use scale scolor** and choose a color scale, such as **Greens**. This will color dream nodes in differing shades of greens, and provide a scale so we can see that lighter colors are older dreams (lower in number) and darker colors are newer dreams (higher in number)\n",
    "\n",
    "![](../images/circle-dreams.png)\n",
    "\n",
    "* Next we want to focus on the entities, specifically, those labeled with type=PERSON by spaCy. Using the legend menu, select all Entities, then choose the **Property** tab and find \"type\" in the dropdown menu. Now all entity nodes are colored by type. We can select various types by pressing down ctrl and use **delete** in the toolbar to delete those nodes, leaving use only the PERSON entity nodes.\n",
    "\n",
    "\n",
    "![](../images/entity-types.png)\n",
    "\n",
    "* Finally, we want to size entity nodes by their frequency of appearence in dreams. For this, we can use the \n",
    "[Centrality Algorithm](https://helpcenter.kineviz.com/user-guides/Working%20version/Running-Graph-Algorithms.1094418529.html#RunningGraphAlgorithms-UsingCentralityorCommunityDetectionAlgorithms) to size nodes according to number of connection/edges. Selet all entities using the legend menu, now go to the **Algorithms** panel, open the **Centrality** tab and click on **Degree**. A message displays when the calculation is finished. The property and calculated value for the algorithm is now added to each node in the graph.\n",
    "\n",
    "![](../images/degree-algorithm.png)\n",
    "\n",
    "\n",
    "* In the project panel, we can now select the Entity category and set the node property grx_degree as **Node size**. As a final step, select the Dreamer node in the legend menu and delete it, so we are left with a time-ordered ring of dreams and the people that most feature in them.\n",
    "\n",
    "We can see that Joey and Mahorn feature more frequently in this dreamer's dreams. \n",
    "\n",
    "All the steps above can be followed along in [this video](https://www.youtube.com/watch?v=uoLDZzeLTmo) as well.\n",
    "\n",
    "![](../images/degree.png)\n",
    "\n",
    "\n"
   ]
  },
  {
   "cell_type": "markdown",
   "metadata": {},
   "source": [
    "## 2.3. Dream clusters  <a class=\"anchor\" id=\"clusters\"></a>\n",
    "[Back to top](#top)\n",
    "\n",
    "Now our goal is to find clusters of related dreams. We can use the [Label Propagation](https://neo4j.com/docs/graph-data-science/current/algorithms/label-propagation/) algorithm powered by our Neo4j database.\n",
    "\n",
    "* To pull up a large number of dream nodes at once, instead of using **Pull** we can use a **Cypher query** directly in the **Query panel**. Here we pull 1000 dream nodes and their \"inner relationships\" which will be any relationship connecting dream nodes to each other, which in this case are the MOST_SIMILAR relationship.\n",
    "\n",
    "![](../images/cypher.png)\n",
    "\n",
    "* To remove singleton nodes, that is, nodes not connected to any other dream node with a MOST_SIMILAR relationship, we select all Dreams in the legend menu, and use the **Centrality Degree** algorithm in the **Algorithms** panel. This will add the property gxr_degree to each node which we can reference in the **Filter** panel and setting gxr_degree=1 as the minimum to show in the graph. This way all singleton nodes, with gxr_degree=0 will be removed.\n",
    "\n",
    "![](../images/filter.png)\n",
    "\n",
    "* Now we can use the **Label Propagation** algorithm from the **Community Detection** tab in the [**Algorithms panel**](https://helpcenter.kineviz.com/user-guides/Working%20version/Running-Graph-Algorithms.1094418529.html#RunningGraphAlgorithms-UsingCentralityorCommunityDetectionAlgorithms) to identify clusters of similar dream. This will create a new property for each dream node \"labelPropagationId\" which you can choose in the dropdown in the legend menu and color all nodes by their community id.\n",
    "\n",
    "![](../images/label-propagation.png)\n",
    "\n",
    "You can choose to drill down on a specific cluster like we do in the next section by selecting a specific labelPropagationId and using **inverse** and **delete** to leave only that cluster in the graph space. You can then **expand** by DREAMT_BY or HAS_ENTITY relationships to understand what the cluster has as common themes. In the next section we focus on a sports related cluster since the entities extracted by spacy refer to team names, famous players and cities.\n",
    "\n"
   ]
  },
  {
   "cell_type": "markdown",
   "metadata": {},
   "source": [
    "## 2.4. Adding dream snapshots  <a class=\"anchor\" id=\"snapshots\"></a>\n",
    "[Back to top](#top)\n",
    "\n",
    "* Save your Aleph2Image Delta generated images to your github account or anywhere where you can link to each image.\n",
    "\n",
    "* Add the image link to the Neo4j database as a property for the Dream node. For example, Phil2's dream node above now has a property \n",
    "\n",
    "```im_url = https://raw.githubusercontent.com/areias/dreams/master/images/dreams/im_d1-2-116_100.png```\n",
    "\n",
    "\n",
    "which is where the image is hosted on my github account.\n",
    "\n",
    "* In the **Settings** menu, you can click on the [**Quick Info** checkbox to display an information pane](https://helpcenter.kineviz.com/user-guides/Working%20version/Setting-Project-display-options.1073021238.html) whenever you hover over a node or edge.\n",
    "\n",
    "![](../images/settings.png)\n",
    "\n",
    "\n",
    "\n",
    "\n",
    "* After selecting the Dream category in the project panel, click on the **Edit Quick Info Template** button which will bring up the default code defining info panel. We are going to write some custom javascript code in order to modify the default info panel and showcase our dream images when we hover over a node!\n",
    "\n",
    "<br>\n",
    "\n",
    "![](../images/quick-info.png)\n",
    "\n",
    "\n",
    "The default info panel code is:\n",
    "\n",
    "\n",
    "```javascript\n",
    "\n",
    "export default class Comp extends React.Component {\n",
    "\n",
    "    autoSubString(str, clipLength) {\n",
    "        str = String(str);\n",
    "        return str.length > clipLength ? str.substr(0, clipLength)  + \"...\" : str;\n",
    "    }\n",
    "\n",
    "    renderProperties(properties) {\n",
    "        return (\n",
    "            <table className=\"table-striped\">\n",
    "                <tbody>\n",
    "                    {_.map(properties, (val, key) => {\n",
    "                        return (\n",
    "                            <tr className=\"row-item\" key={key}>\n",
    "                                <td className=\"row-key\"> {this.autoSubString(key, 20)}</td>\n",
    "                                <td className=\"row-value\"> {this.autoSubString(val, 60)} </td>\n",
    "                            </tr>\n",
    "                        );\n",
    "                    }).sort((a, b) => (a.key >= b.key ? 1 : -1))}\n",
    "                </tbody>\n",
    "            </table>\n",
    "        );\n",
    "    }\n",
    "\n",
    "    renderLabel(name) {\n",
    "        return <label>{this.autoSubString(name, 25)}</label>;\n",
    "    }\n",
    "\n",
    "    render() {\n",
    "        let { model } = this.props\n",
    "        return (\n",
    "            <div className=\"body\">\n",
    "                {this.renderLabel(model.name)}\n",
    "                {this.renderProperties(model.properties)}\n",
    "            </div>)\n",
    "    }\n",
    "}\n",
    "```"
   ]
  },
  {
   "cell_type": "markdown",
   "metadata": {},
   "source": [
    "We're going to create our own renderImage function that takes a node's image url property and renders an image:\n",
    "\n",
    "```javascript\n",
    "    renderImage(properties){\n",
    "      return <img alt=\"\" src={properties.im_url} width=\"100%\" height=\"100%\"/>\n",
    "    }\n",
    "```"
   ]
  },
  {
   "cell_type": "markdown",
   "metadata": {},
   "source": [
    "We also modify the renderLabel function to show 100 characters of a node's property so we can see the start of the dream content which generated the image:\n",
    "\n",
    "```javascript\n",
    "  renderLabel(name) {\n",
    "        return <label>{this.autoSubString(name, 100)}</label>;\n",
    "    }\n",
    "```"
   ]
  },
  {
   "cell_type": "markdown",
   "metadata": {},
   "source": [
    "And lastly modify the final rendering bit to show both the image url and the first 100 characters in the dream content property:\n",
    "\n",
    "```javascript\n",
    " render() {\n",
    "        let { model } = this.props\n",
    "        return (\n",
    "            <div className=\"body\">\n",
    "          \t\t\t{this.renderLabel(model.properties.content)}\n",
    "                {this.renderImage(model.properties)}\n",
    "            </div>)\n",
    "    }\n",
    "```"
   ]
  },
  {
   "cell_type": "markdown",
   "metadata": {},
   "source": [
    "So whenever we hover over dream node that has an img_url property associated with it, the dream snapshot will appear, as well as the first sentences of the dream content that were used to generate the image using Aleph2Image. I think this is pretty trippy :)\n",
    "\n",
    "![](../images/baseball-cluster.png)"
   ]
  },
  {
   "cell_type": "code",
   "execution_count": null,
   "metadata": {},
   "outputs": [],
   "source": []
  }
 ],
 "metadata": {
  "accelerator": "GPU",
  "celltoolbar": "Slideshow",
  "colab": {
   "name": "dream-catcher.ipynb",
   "provenance": [],
   "toc_visible": true
  },
  "kernelspec": {
   "display_name": "Python [conda env:neo4j]",
   "language": "python",
   "name": "conda-env-neo4j-py"
  },
  "language_info": {
   "codemirror_mode": {
    "name": "ipython",
    "version": 3
   },
   "file_extension": ".py",
   "mimetype": "text/x-python",
   "name": "python",
   "nbconvert_exporter": "python",
   "pygments_lexer": "ipython3",
   "version": "3.7.10"
  }
 },
 "nbformat": 4,
 "nbformat_minor": 4
}
